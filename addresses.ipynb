{
 "cells": [
  {
   "cell_type": "code",
   "execution_count": 1,
   "id": "6281cc3f-98e3-4a6b-88cd-9c8c5e38a44d",
   "metadata": {},
   "outputs": [],
   "source": [
    "import pandas as pd\n",
    "import numpy as np"
   ]
  },
  {
   "cell_type": "code",
   "execution_count": 2,
   "id": "cb1d63bc-36c9-4169-8d60-be7130d5b38e",
   "metadata": {},
   "outputs": [],
   "source": [
    "df = pd.read_table(\"sweden.tsv\")"
   ]
  },
  {
   "cell_type": "markdown",
   "id": "bf6ac761-ccb2-46c4-aae8-c2788d843cc4",
   "metadata": {},
   "source": [
    "### Cleaning data\n",
    "Removing unneccessary columns and adding street addresses to locations with no given address but has longitude and latitude"
   ]
  },
  {
   "cell_type": "code",
   "execution_count": 3,
   "id": "b13d41f6-2b9f-48f8-81d3-6ec757d894b0",
   "metadata": {},
   "outputs": [],
   "source": [
    "df = df.drop([\"alternative_names\", \n",
    "                 \"osm_type\", \n",
    "                 \"osm_id\", \n",
    "                 \"class\", \n",
    "                 \"type\", \n",
    "                 \"place_rank\", \n",
    "                 \"importance\", \n",
    "                 \"country\", \n",
    "                 \"country_code\", \n",
    "                 \"wikidata\",\n",
    "                 \"wikipedia\",\n",
    "                 \"east\",\n",
    "                 \"south\",\n",
    "                 \"west\",\n",
    "                 \"north\"], axis=\"columns\")"
   ]
  },
  {
   "cell_type": "code",
   "execution_count": 5,
   "id": "8d6ab18e-485e-4dea-89fd-0fc356b39d85",
   "metadata": {},
   "outputs": [],
   "source": [
    "from geopy.geocoders import Nominatim\n",
    "from geopy.extra.rate_limiter import RateLimiter"
   ]
  },
  {
   "cell_type": "code",
   "execution_count": 6,
   "id": "4d6c0944-e31e-496b-b3cd-c45a44654c7c",
   "metadata": {},
   "outputs": [],
   "source": [
    "geolocator = Nominatim(user_agent=\"geocode\")"
   ]
  },
  {
   "cell_type": "markdown",
   "id": "875dc06c-ead6-4fc1-9239-9e40c9d76e4c",
   "metadata": {},
   "source": [
    "### Adding missing street address to locations\n",
    "Gets the address from reverse geocoding the longitude and latitude"
   ]
  },
  {
   "cell_type": "code",
   "execution_count": 7,
   "id": "f68abd35-12d7-416a-8741-35da6673a794",
   "metadata": {},
   "outputs": [],
   "source": [
    "df_missing_street = df[df[\"street\"].isna() & df[\"lat\"].notna() & df[\"lon\"].notna()]"
   ]
  },
  {
   "cell_type": "code",
   "execution_count": 8,
   "id": "0d317abb-b589-438f-acad-957ef8f39f7b",
   "metadata": {},
   "outputs": [],
   "source": [
    "def get_street(lat, lon):\n",
    "    try:\n",
    "        location = reverse((lat, lon), language='en')\n",
    "        if location and location.raw.get(\"address\"):\n",
    "            return location.raw[\"address\"].get(\"road\")\n",
    "    except:\n",
    "        return None"
   ]
  },
  {
   "cell_type": "code",
   "execution_count": 9,
   "id": "b918e8f8-ca30-4500-abd3-c5334edacb1d",
   "metadata": {},
   "outputs": [],
   "source": [
    "for idx, row in df_missing_street.iterrows():\n",
    "    street_name = get_street(row[\"lat\"], row[\"lon\"])\n",
    "    df.at[idx, \"street\"] = street_name"
   ]
  },
  {
   "cell_type": "markdown",
   "id": "5998e1a0-6dff-4732-aad6-5e19aaed6534",
   "metadata": {},
   "source": [
    "Dropping all rows with missing streets to make sure no locations exists with missing streets."
   ]
  },
  {
   "cell_type": "code",
   "execution_count": 11,
   "id": "339327c3-8c4f-4913-85ce-830f7152b51e",
   "metadata": {},
   "outputs": [],
   "source": [
    "df_nonan_street = df.dropna(subset=[\"street\"])"
   ]
  },
  {
   "cell_type": "code",
   "execution_count": 12,
   "id": "3734de4d-5f08-4aee-bba5-6bb9a553409e",
   "metadata": {},
   "outputs": [],
   "source": [
    "df_nonan_street.to_csv(\"sweden_with_street.tsv\", sep=\"\\t\", index=False)"
   ]
  },
  {
   "cell_type": "code",
   "execution_count": null,
   "id": "a1eac70a-d51f-4d5f-84d5-01d4b7b988e9",
   "metadata": {},
   "outputs": [],
   "source": [
    "df = pd.read_table(\"sweden_with_street.tsv\")"
   ]
  },
  {
   "cell_type": "code",
   "execution_count": null,
   "id": "47f7809d-eb6c-4cfb-a08b-d0459d4b55b7",
   "metadata": {},
   "outputs": [],
   "source": [
    "from geopy.distance import geodesic"
   ]
  },
  {
   "cell_type": "markdown",
   "id": "8db4ba20-a39f-467e-a820-afb747b58fc2",
   "metadata": {},
   "source": [
    "Defining the cities our attendant groups will be active in, the location is the most central spot in each city"
   ]
  },
  {
   "cell_type": "code",
   "execution_count": null,
   "id": "38a1c1b8-6d86-4e67-add7-626d575f9e5f",
   "metadata": {},
   "outputs": [],
   "source": [
    "# stad: (latitud, longitud)\n",
    "cities = {\n",
    "    \"Stockholm\": (59.3251172, 18.0710935),\n",
    "    \"Göteborg\": (57.7072326, 11.9670171),\n",
    "    \"Malmö\": (55.6052931, 13.0001566),\n",
    "    \"Uppsala\": (59.8586126, 17.6387436),\n",
    "    \"Linköping\": (58.4098135, 15.6245252),\n",
    "    \"Västerås\": (59.6110992, 16.5463679),\n",
    "    \"Örebro\": (59.2747287, 15.2151181),\n",
    "    \"Helsingborg\": (56.0442098, 12.703706),\n",
    "    \"Jönköping\": (57.7825634, 14.165719),\n",
    "    \"Norrköping\": (58.5909124, 16.1903511)\n",
    "}"
   ]
  },
  {
   "cell_type": "markdown",
   "id": "5e10b9fe-ad2a-4fe8-96c0-e4a706461e1b",
   "metadata": {},
   "source": [
    "A location belongs to that city if it is less than 30 km from the central spot"
   ]
  },
  {
   "cell_type": "code",
   "execution_count": null,
   "id": "4bab2f4a-3d3c-48d5-ba58-f9ff49e95966",
   "metadata": {},
   "outputs": [],
   "source": [
    "max_distance = 30"
   ]
  },
  {
   "cell_type": "raw",
   "id": "09ed4273-7bf3-47f5-bb10-ee433cb16c1b",
   "metadata": {},
   "source": [
    "The nearest city and the distance from the location and the central spot gets added to their row, if the location is more than `max_distance` from the central spot, it gets None as their nearest city"
   ]
  },
  {
   "cell_type": "code",
   "execution_count": null,
   "id": "28e18e61-84bd-4baf-86e2-2ce247fff03f",
   "metadata": {},
   "outputs": [],
   "source": [
    "def find_nearest_city(lat, lon, cities):\n",
    "    min_dist = float('inf')\n",
    "    nearest = None\n",
    "    for city, coords in cities.items():\n",
    "        dist = geodesic((lat, lon), coords).km\n",
    "        if dist < min_dist:\n",
    "            min_dist = dist\n",
    "            nearest = city\n",
    "    if min_dist <= max_distance:\n",
    "        return pd.Series([nearest, round(min_dist, 2)])\n",
    "    else:\n",
    "        return pd.Series([None, None])"
   ]
  },
  {
   "cell_type": "code",
   "execution_count": null,
   "id": "91023749-f6e7-4e7b-aa77-95cacbf749f5",
   "metadata": {},
   "outputs": [],
   "source": [
    "df[['nearest_city', 'distance_km']] = df.apply(\n",
    "    lambda row: find_nearest_city(row['lat'], row['lon'], cities),\n",
    "    axis=1\n",
    ")"
   ]
  },
  {
   "cell_type": "code",
   "execution_count": null,
   "id": "bb154f95-ece2-471b-ae5c-5ffcab3d231c",
   "metadata": {},
   "outputs": [],
   "source": [
    "nonc_df = df.dropna(subset=[\"nearest_city\"])"
   ]
  },
  {
   "cell_type": "markdown",
   "id": "275a63a3",
   "metadata": {},
   "source": [
    "Removing the letter from the housenumber if it exists and converts the string of numbers to a list instead"
   ]
  },
  {
   "cell_type": "code",
   "execution_count": null,
   "id": "b29b4593",
   "metadata": {},
   "outputs": [],
   "source": [
    "def extract_numeric_housenumber(housenumber):\n",
    "    if not isinstance(housenumber, str):\n",
    "        return []\n",
    "    return [n.strip() for n in housenumber.split(',') if n.strip().isdigit()]"
   ]
  },
  {
   "cell_type": "code",
   "execution_count": null,
   "id": "2df857bb",
   "metadata": {},
   "outputs": [],
   "source": [
    "nonc_df = nonc_df.copy()\n",
    "nonc_df[\"housenumbers\"] = nonc_df[\"housenumbers\"].apply(extract_numeric_housenumber)"
   ]
  },
  {
   "cell_type": "code",
   "execution_count": null,
   "id": "968b21ab-43df-455d-9881-7e772ce7e7f9",
   "metadata": {},
   "outputs": [],
   "source": [
    "nonc_df.to_csv('addresses_with_city.csv', index=False)"
   ]
  }
 ],
 "metadata": {
  "kernelspec": {
   "display_name": "Python 3 (ipykernel)",
   "language": "python",
   "name": "python3"
  },
  "language_info": {
   "codemirror_mode": {
    "name": "ipython",
    "version": 3
   },
   "file_extension": ".py",
   "mimetype": "text/x-python",
   "name": "python",
   "nbconvert_exporter": "python",
   "pygments_lexer": "ipython3",
   "version": "3.13.1"
  }
 },
 "nbformat": 4,
 "nbformat_minor": 5
}
